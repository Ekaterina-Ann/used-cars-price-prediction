{
 "cells": [
  {
   "cell_type": "code",
   "execution_count": 2,
   "id": "a2cd9b99",
   "metadata": {},
   "outputs": [
    {
     "name": "stdout",
     "output_type": "stream",
     "text": [
      "Collecting vininfo[cli]Note: you may need to restart the kernel to use updated packages.\n",
      "\n",
      "  Downloading vininfo-1.7.0-py2.py3-none-any.whl (20 kB)\n",
      "Requirement already satisfied: click in c:\\programdata\\anaconda3\\lib\\site-packages (from vininfo[cli]) (8.0.4)\n",
      "Requirement already satisfied: colorama in c:\\programdata\\anaconda3\\lib\\site-packages (from click->vininfo[cli]) (0.4.6)\n",
      "Installing collected packages: vininfo\n",
      "Successfully installed vininfo-1.7.0\n"
     ]
    }
   ],
   "source": [
    "pip install vininfo[cli]"
   ]
  },
  {
   "cell_type": "code",
   "execution_count": 4,
   "id": "4e0b01b9",
   "metadata": {},
   "outputs": [],
   "source": [
    "import pandas as pd\n",
    "import matplotlib.pyplot as plt\n",
    "import plotly.express as px\n",
    "import numpy as np\n",
    "import seaborn as sns\n",
    "\n",
    "\n",
    "from sklearn.linear_model import LinearRegression\n",
    "from sklearn.model_selection import train_test_split, cross_val_score\n",
    "from sklearn.metrics import mean_squared_error\n",
    "import numpy as np\n",
    "from numpy.random import RandomState\n",
    "from scipy import stats as st\n",
    "import matplotlib.pyplot as plt\n",
    "\n",
    "from datetime import datetime\n",
    "\n",
    "\n",
    "\n",
    "from numpy.random import RandomState\n",
    "\n",
    "\n",
    "import math\n",
    "from sklearn.model_selection import cross_val_score\n",
    "\n",
    "\n",
    "\n",
    "\n",
    "\n",
    "\n",
    "from sklearn.linear_model import LogisticRegression\n",
    "from sklearn import tree\n",
    "from sklearn.ensemble import RandomForestClassifier\n",
    "from sklearn.tree import DecisionTreeClassifier\n",
    "\n",
    "from sklearn.utils import shuffle\n",
    "from sklearn.preprocessing import StandardScaler, OneHotEncoder, OrdinalEncoder\n",
    "\n",
    "\n",
    "import statistics"
   ]
  },
  {
   "cell_type": "code",
   "execution_count": 7,
   "id": "a8d3ed05",
   "metadata": {},
   "outputs": [
    {
     "data": {
      "text/plain": [
       "True"
      ]
     },
     "execution_count": 7,
     "metadata": {},
     "output_type": "execute_result"
    }
   ],
   "source": [
    "from vininfo import Vin\n",
    "\n",
    "vin = Vin('VF1LM1B0H36666155')\n",
    "\n",
    "vin.country  # France\n",
    "vin.manufacturer  # Renault\n",
    "vin.region  # Europe\n",
    "vin.wmi  # VF1\n",
    "vin.vds  # LM1B0H\n",
    "vin.vis  # 36666155\n",
    "\n",
    "annotated = vin.annotate()\n",
    "details = vin.details\n",
    "\n",
    "vin.verify_checksum()  # False\n",
    "Vin('1M8GDM9AXKP042788').verify_checksum()  # True"
   ]
  },
  {
   "cell_type": "code",
   "execution_count": 97,
   "id": "3b4acbd0",
   "metadata": {},
   "outputs": [
    {
     "data": {
      "text/plain": [
       "Index(['year', 'make', 'model', 'trim', 'body', 'transmission', 'vin', 'state',\n",
       "       'condition', 'odometer', 'color', 'interior', 'seller', 'sellingprice',\n",
       "       'saledate'],\n",
       "      dtype='object')"
      ]
     },
     "execution_count": 97,
     "metadata": {},
     "output_type": "execute_result"
    }
   ],
   "source": [
    "data_train = pd.read_csv('./train.csv')\n",
    "data_train.columns"
   ]
  },
  {
   "cell_type": "code",
   "execution_count": 95,
   "id": "320762db",
   "metadata": {},
   "outputs": [],
   "source": [
    "#data_train['transmission'] = data_train['transmission'].fillna(0)"
   ]
  },
  {
   "cell_type": "code",
   "execution_count": 96,
   "id": "551edddb",
   "metadata": {},
   "outputs": [
    {
     "data": {
      "text/plain": [
       "'automatic'"
      ]
     },
     "execution_count": 96,
     "metadata": {},
     "output_type": "execute_result"
    }
   ],
   "source": [
    "data_train.loc[2, 'transmission']"
   ]
  },
  {
   "cell_type": "code",
   "execution_count": 65,
   "id": "ccd98ace",
   "metadata": {},
   "outputs": [],
   "source": [
    "mser = pd.Series(np.random.rand(8), index=[['white','white','white','blue','blue','red','red', 'red'], ['up','down','right','up','down','up','down','left']])"
   ]
  },
  {
   "cell_type": "code",
   "execution_count": 66,
   "id": "1f9c8eac",
   "metadata": {},
   "outputs": [
    {
     "data": {
      "text/plain": [
       "white  up       0.426137\n",
       "       down     0.559300\n",
       "       right    0.242402\n",
       "blue   up       0.693807\n",
       "       down     0.617207\n",
       "red    up       0.479103\n",
       "       down     0.442657\n",
       "       left     0.776900\n",
       "dtype: float64"
      ]
     },
     "execution_count": 66,
     "metadata": {},
     "output_type": "execute_result"
    }
   ],
   "source": [
    "mser"
   ]
  },
  {
   "cell_type": "code",
   "execution_count": 71,
   "id": "47b17e8d",
   "metadata": {},
   "outputs": [
    {
     "data": {
      "text/plain": [
       "MultiIndex([('white',    'up'),\n",
       "            ('white',  'down'),\n",
       "            ('white', 'right'),\n",
       "            ( 'blue',    'up'),\n",
       "            ( 'blue',  'down'),\n",
       "            (  'red',    'up'),\n",
       "            (  'red',  'down'),\n",
       "            (  'red',  'left')],\n",
       "           )"
      ]
     },
     "execution_count": 71,
     "metadata": {},
     "output_type": "execute_result"
    }
   ],
   "source": [
    "mser.index"
   ]
  },
  {
   "cell_type": "code",
   "execution_count": 70,
   "id": "b9399c9b",
   "metadata": {},
   "outputs": [
    {
     "data": {
      "text/plain": [
       "0.4261373353022486"
      ]
     },
     "execution_count": 70,
     "metadata": {},
     "output_type": "execute_result"
    }
   ],
   "source": [
    "\n",
    "mser['white','up']"
   ]
  },
  {
   "cell_type": "code",
   "execution_count": 86,
   "id": "4d391307",
   "metadata": {},
   "outputs": [
    {
     "data": {
      "text/plain": [
       "year  make       model     transmission\n",
       "1984  chevrolet  corvette  automatic       1.0\n",
       "1985  chevrolet  corvette  automatic       0.5\n",
       "                           manual          0.5\n",
       "1986  chevrolet  corvette  manual          1.0\n",
       "      mercedes   420sel    automatic       1.0\n",
       "                                          ... \n",
       "2015  Volvo      V60       automatic       1.0\n",
       "                 XC60      automatic       1.0\n",
       "                 XC70      automatic       1.0\n",
       "      chevrolet  capt      automatic       1.0\n",
       "      smart      fortwo    automatic       1.0\n",
       "Name: transmission, Length: 6894, dtype: float64"
      ]
     },
     "execution_count": 86,
     "metadata": {},
     "output_type": "execute_result"
    }
   ],
   "source": [
    "df = (data_train\n",
    "             #.query('transmission.isna()==False')\n",
    "             .groupby([ 'year', 'make', 'model'])['transmission']\n",
    "             .value_counts(1)\n",
    "             #.to_frame()\n",
    ")\n",
    "df"
   ]
  },
  {
   "cell_type": "code",
   "execution_count": 128,
   "id": "96adce44",
   "metadata": {},
   "outputs": [
    {
     "data": {
      "text/html": [
       "<div>\n",
       "<style scoped>\n",
       "    .dataframe tbody tr th:only-of-type {\n",
       "        vertical-align: middle;\n",
       "    }\n",
       "\n",
       "    .dataframe tbody tr th {\n",
       "        vertical-align: top;\n",
       "    }\n",
       "\n",
       "    .dataframe thead th {\n",
       "        text-align: right;\n",
       "    }\n",
       "</style>\n",
       "<table border=\"1\" class=\"dataframe\">\n",
       "  <thead>\n",
       "    <tr style=\"text-align: right;\">\n",
       "      <th></th>\n",
       "      <th>transmission_automatic</th>\n",
       "      <th>transmission_manual</th>\n",
       "    </tr>\n",
       "  </thead>\n",
       "  <tbody>\n",
       "    <tr>\n",
       "      <th>Acura CL</th>\n",
       "      <td>0.971831</td>\n",
       "      <td>0.028169</td>\n",
       "    </tr>\n",
       "    <tr>\n",
       "      <th>Acura ILX</th>\n",
       "      <td>0.939759</td>\n",
       "      <td>0.060241</td>\n",
       "    </tr>\n",
       "    <tr>\n",
       "      <th>Acura Integra</th>\n",
       "      <td>0.833333</td>\n",
       "      <td>0.166667</td>\n",
       "    </tr>\n",
       "    <tr>\n",
       "      <th>Acura Legend</th>\n",
       "      <td>1.000000</td>\n",
       "      <td>0.000000</td>\n",
       "    </tr>\n",
       "    <tr>\n",
       "      <th>Acura MDX</th>\n",
       "      <td>0.999007</td>\n",
       "      <td>0.000993</td>\n",
       "    </tr>\n",
       "    <tr>\n",
       "      <th>...</th>\n",
       "      <td>...</td>\n",
       "      <td>...</td>\n",
       "    </tr>\n",
       "    <tr>\n",
       "      <th>volkswagen passat</th>\n",
       "      <td>1.000000</td>\n",
       "      <td>0.000000</td>\n",
       "    </tr>\n",
       "    <tr>\n",
       "      <th>volkswagen routan</th>\n",
       "      <td>1.000000</td>\n",
       "      <td>0.000000</td>\n",
       "    </tr>\n",
       "    <tr>\n",
       "      <th>vw beetle</th>\n",
       "      <td>0.333333</td>\n",
       "      <td>0.666667</td>\n",
       "    </tr>\n",
       "    <tr>\n",
       "      <th>vw jetta</th>\n",
       "      <td>0.000000</td>\n",
       "      <td>1.000000</td>\n",
       "    </tr>\n",
       "    <tr>\n",
       "      <th>vw routan</th>\n",
       "      <td>1.000000</td>\n",
       "      <td>0.000000</td>\n",
       "    </tr>\n",
       "  </tbody>\n",
       "</table>\n",
       "<p>971 rows × 2 columns</p>\n",
       "</div>"
      ],
      "text/plain": [
       "                   transmission_automatic  transmission_manual\n",
       "Acura CL                         0.971831             0.028169\n",
       "Acura ILX                        0.939759             0.060241\n",
       "Acura Integra                    0.833333             0.166667\n",
       "Acura Legend                     1.000000             0.000000\n",
       "Acura MDX                        0.999007             0.000993\n",
       "...                                   ...                  ...\n",
       "volkswagen passat                1.000000             0.000000\n",
       "volkswagen routan                1.000000             0.000000\n",
       "vw beetle                        0.333333             0.666667\n",
       "vw jetta                         0.000000             1.000000\n",
       "vw routan                        1.000000             0.000000\n",
       "\n",
       "[971 rows x 2 columns]"
      ]
     },
     "execution_count": 128,
     "metadata": {},
     "output_type": "execute_result"
    }
   ],
   "source": [
    "df = (data_train\n",
    "             .query('transmission.isna()==False')\n",
    "             .groupby(['make', 'model'])['transmission']\n",
    "             .value_counts(1)\n",
    "             .to_frame()\n",
    ").sort_values (by = ['make']).unstack().fillna(0)\n",
    "df.columns = df.columns.map('_'.join)\n",
    "df.index = df.index.map(' '.join)\n",
    "df"
   ]
  },
  {
   "cell_type": "code",
   "execution_count": 138,
   "id": "ad4892ba",
   "metadata": {},
   "outputs": [],
   "source": [
    "def fillna_transmission(row):\n",
    "    make = row['make']\n",
    "    model = row['model']\n",
    "    row_index = make + ' ' + model\n",
    "    if row['transmission'].isnull:\n",
    "        if row_index in df.index:\n",
    "            row['transmission'] = df['row_index']\n",
    "        else:\n",
    "            pass\n",
    "    else:\n",
    "         pass"
   ]
  },
  {
   "cell_type": "code",
   "execution_count": null,
   "id": "219dc762",
   "metadata": {},
   "outputs": [],
   "source": []
  },
  {
   "cell_type": "code",
   "execution_count": 136,
   "id": "35e4c5af",
   "metadata": {},
   "outputs": [
    {
     "data": {
      "text/plain": [
       "'Nissan Sentra'"
      ]
     },
     "execution_count": 136,
     "metadata": {},
     "output_type": "execute_result"
    }
   ],
   "source": [
    "make = data_train.loc[2, 'make']\n",
    "model = data_train.loc[2, 'model']\n",
    "row_index = make + ' ' + model\n",
    "row_index"
   ]
  },
  {
   "cell_type": "code",
   "execution_count": 125,
   "id": "feb8f28d",
   "metadata": {},
   "outputs": [
    {
     "data": {
      "text/plain": [
       "transmission_automatic    971\n",
       "transmission_manual       971\n",
       "dtype: int64"
      ]
     },
     "execution_count": 125,
     "metadata": {},
     "output_type": "execute_result"
    }
   ],
   "source": []
  },
  {
   "cell_type": "code",
   "execution_count": 134,
   "id": "3c2dd1a2",
   "metadata": {},
   "outputs": [
    {
     "data": {
      "text/plain": [
       "Index(['Acura CL', 'Acura ILX', 'Acura Integra', 'Acura Legend', 'Acura MDX',\n",
       "       'Acura RDX', 'Acura RL', 'Acura RLX', 'Acura RSX', 'Acura TL',\n",
       "       ...\n",
       "       'toyota previa', 'toyota sienna', 'toyota tundra', 'toyota yaris',\n",
       "       'volkswagen eurovan', 'volkswagen passat', 'volkswagen routan',\n",
       "       'vw beetle', 'vw jetta', 'vw routan'],\n",
       "      dtype='object', length=971)"
      ]
     },
     "execution_count": 134,
     "metadata": {},
     "output_type": "execute_result"
    }
   ],
   "source": [
    "df.index"
   ]
  },
  {
   "cell_type": "code",
   "execution_count": 90,
   "id": "291bf4bd",
   "metadata": {},
   "outputs": [
    {
     "data": {
      "text/plain": [
       "True"
      ]
     },
     "execution_count": 90,
     "metadata": {},
     "output_type": "execute_result"
    }
   ],
   "source": [
    "(1984,  'chevrolet') in df.index"
   ]
  },
  {
   "cell_type": "code",
   "execution_count": 82,
   "id": "4045f439",
   "metadata": {},
   "outputs": [
    {
     "data": {
      "text/plain": [
       "make       model   transmission\n",
       "Acura      ILX     automatic       1.0\n",
       "           MDX     automatic       1.0\n",
       "           RDX     automatic       1.0\n",
       "Audi       A3      automatic       1.0\n",
       "           A4      automatic       1.0\n",
       "                                  ... \n",
       "Volvo      V60     automatic       1.0\n",
       "           XC60    automatic       1.0\n",
       "           XC70    automatic       1.0\n",
       "chevrolet  capt    automatic       1.0\n",
       "smart      fortwo  automatic       1.0\n",
       "Name: transmission, Length: 229, dtype: float64"
      ]
     },
     "execution_count": 82,
     "metadata": {},
     "output_type": "execute_result"
    }
   ],
   "source": [
    "df[2015]"
   ]
  },
  {
   "cell_type": "code",
   "execution_count": null,
   "id": "2cfe3fb2",
   "metadata": {},
   "outputs": [],
   "source": [
    "def fillna_transmission(row):\n",
    "    if row['transmission']isna():\n",
    "        if (row['year'], row['make'], row['model']) in df.index:\n",
    "            row['transmission'] = df\n",
    "        "
   ]
  },
  {
   "cell_type": "code",
   "execution_count": 99,
   "id": "4cbd8a7f",
   "metadata": {},
   "outputs": [
    {
     "data": {
      "text/plain": [
       "0    automatic\n",
       "Name: transmission, dtype: object"
      ]
     },
     "execution_count": 99,
     "metadata": {},
     "output_type": "execute_result"
    }
   ],
   "source": [
    "data_train['transmission'].mode() #.iloc[0]"
   ]
  },
  {
   "cell_type": "code",
   "execution_count": 100,
   "id": "e695b2f2",
   "metadata": {},
   "outputs": [
    {
     "data": {
      "text/plain": [
       "0    1.0\n",
       "Name: transmission, dtype: float64"
      ]
     },
     "execution_count": 100,
     "metadata": {},
     "output_type": "execute_result"
    }
   ],
   "source": [
    "df.mode()"
   ]
  },
  {
   "cell_type": "code",
   "execution_count": null,
   "id": "da96a37c",
   "metadata": {},
   "outputs": [],
   "source": []
  },
  {
   "cell_type": "code",
   "execution_count": null,
   "id": "93592626",
   "metadata": {},
   "outputs": [],
   "source": []
  },
  {
   "cell_type": "code",
   "execution_count": null,
   "id": "47f428be",
   "metadata": {},
   "outputs": [],
   "source": [
    "data_train['transmission'] = data_train.groupby(['make', 'model','year'])['transmission'].apply(lambda x: x.fillna(x.mode().iloc[0] if not x.mode().empty else x))"
   ]
  },
  {
   "cell_type": "code",
   "execution_count": null,
   "id": "e299298a",
   "metadata": {},
   "outputs": [],
   "source": []
  },
  {
   "cell_type": "code",
   "execution_count": null,
   "id": "6d748bfd",
   "metadata": {},
   "outputs": [],
   "source": []
  },
  {
   "cell_type": "code",
   "execution_count": null,
   "id": "7f24193e",
   "metadata": {},
   "outputs": [],
   "source": []
  },
  {
   "cell_type": "code",
   "execution_count": null,
   "id": "038a3083",
   "metadata": {},
   "outputs": [],
   "source": []
  },
  {
   "cell_type": "code",
   "execution_count": null,
   "id": "937e58c0",
   "metadata": {},
   "outputs": [],
   "source": []
  },
  {
   "cell_type": "code",
   "execution_count": 13,
   "id": "44687597",
   "metadata": {},
   "outputs": [],
   "source": [
    "def vin_m(x):\n",
    "    string = x\n",
    "    return Vin(string).manufacturer"
   ]
  },
  {
   "cell_type": "code",
   "execution_count": 14,
   "id": "32644dd4",
   "metadata": {
    "scrolled": true
   },
   "outputs": [],
   "source": [
    "data_train['manufacturer'] = data_train['vin'].apply(lambda x: vin_m(x))"
   ]
  },
  {
   "cell_type": "code",
   "execution_count": 15,
   "id": "82309b90",
   "metadata": {},
   "outputs": [
    {
     "data": {
      "text/plain": [
       "0           Ford\n",
       "1           Ford\n",
       "2         Nissan\n",
       "3         Hummer\n",
       "4           Ford\n",
       "           ...  \n",
       "440231       Kia\n",
       "440232      Mini\n",
       "440233       BMW\n",
       "440234       Ram\n",
       "440235    Nissan\n",
       "Name: manufacturer, Length: 440236, dtype: object"
      ]
     },
     "execution_count": 15,
     "metadata": {},
     "output_type": "execute_result"
    }
   ],
   "source": [
    "data_train['manufacturer']"
   ]
  },
  {
   "cell_type": "code",
   "execution_count": 26,
   "id": "28083f09",
   "metadata": {},
   "outputs": [
    {
     "data": {
      "text/plain": [
       "0"
      ]
     },
     "execution_count": 26,
     "metadata": {},
     "output_type": "execute_result"
    }
   ],
   "source": [
    "data_train['make'].isna().sum()"
   ]
  },
  {
   "cell_type": "code",
   "execution_count": 25,
   "id": "880a73be",
   "metadata": {},
   "outputs": [],
   "source": [
    "data_train['make'] = data_train['make'].fillna(data_train['manufacturer'])"
   ]
  },
  {
   "cell_type": "code",
   "execution_count": 28,
   "id": "f2411bea",
   "metadata": {},
   "outputs": [],
   "source": [
    "vin = Vin(data_train.loc[1, 'vin'])"
   ]
  },
  {
   "cell_type": "code",
   "execution_count": 34,
   "id": "633e80ab",
   "metadata": {},
   "outputs": [
    {
     "data": {
      "text/plain": [
       "'3fa6p0h75er208976'"
      ]
     },
     "execution_count": 34,
     "metadata": {},
     "output_type": "execute_result"
    }
   ],
   "source": [
    "data_train.loc[1, 'vin']"
   ]
  },
  {
   "cell_type": "code",
   "execution_count": 36,
   "id": "2eef419a",
   "metadata": {},
   "outputs": [
    {
     "data": {
      "text/plain": [
       "'3FA'"
      ]
     },
     "execution_count": 36,
     "metadata": {},
     "output_type": "execute_result"
    }
   ],
   "source": [
    "vin.vds\n",
    "vin.vis\n",
    "vin.wmi"
   ]
  },
  {
   "cell_type": "code",
   "execution_count": null,
   "id": "59c801e5",
   "metadata": {},
   "outputs": [],
   "source": []
  },
  {
   "cell_type": "code",
   "execution_count": 37,
   "id": "c8307240",
   "metadata": {},
   "outputs": [
    {
     "ename": "NameError",
     "evalue": "name 'nissan' is not defined",
     "output_type": "error",
     "traceback": [
      "\u001b[1;31m---------------------------------------------------------------------------\u001b[0m",
      "\u001b[1;31mNameError\u001b[0m                                 Traceback (most recent call last)",
      "Cell \u001b[1;32mIn[37], line 1\u001b[0m\n\u001b[1;32m----> 1\u001b[0m details\u001b[38;5;241m/\u001b[39mnissan\u001b[38;5;241m.\u001b[39mpy\n",
      "\u001b[1;31mNameError\u001b[0m: name 'nissan' is not defined"
     ]
    }
   ],
   "source": [
    "details/nissan.py"
   ]
  },
  {
   "cell_type": "code",
   "execution_count": null,
   "id": "cff474b8",
   "metadata": {},
   "outputs": [],
   "source": []
  },
  {
   "cell_type": "code",
   "execution_count": 31,
   "id": "ec05c407",
   "metadata": {},
   "outputs": [
    {
     "data": {
      "text/plain": [
       "{'manufacturer': 'Manufacturer',\n",
       " 'region': 'Region',\n",
       " 'country': 'Country',\n",
       " 'years': 'Years'}"
      ]
     },
     "execution_count": 31,
     "metadata": {},
     "output_type": "execute_result"
    }
   ],
   "source": [
    "vin.annotate_titles"
   ]
  },
  {
   "cell_type": "code",
   "execution_count": 29,
   "id": "240dc8b3",
   "metadata": {},
   "outputs": [],
   "source": [
    "col = []"
   ]
  },
  {
   "cell_type": "code",
   "execution_count": null,
   "id": "6934fee6",
   "metadata": {},
   "outputs": [],
   "source": [
    "for i in col:"
   ]
  },
  {
   "cell_type": "code",
   "execution_count": null,
   "id": "ba998b04",
   "metadata": {},
   "outputs": [],
   "source": []
  },
  {
   "cell_type": "code",
   "execution_count": null,
   "id": "0653e5db",
   "metadata": {},
   "outputs": [],
   "source": []
  },
  {
   "cell_type": "code",
   "execution_count": null,
   "id": "7bfd5438",
   "metadata": {},
   "outputs": [],
   "source": []
  },
  {
   "cell_type": "code",
   "execution_count": null,
   "id": "aa58e6b9",
   "metadata": {},
   "outputs": [],
   "source": []
  },
  {
   "cell_type": "code",
   "execution_count": null,
   "id": "0caeb816",
   "metadata": {},
   "outputs": [],
   "source": []
  },
  {
   "cell_type": "code",
   "execution_count": 9,
   "id": "e03fdd7b",
   "metadata": {},
   "outputs": [],
   "source": [
    "vin = Vin('VF1LM1B0H36666155')"
   ]
  },
  {
   "cell_type": "code",
   "execution_count": 39,
   "id": "5b7bd1de",
   "metadata": {},
   "outputs": [
    {
     "data": {
      "text/plain": [
       "'Renault'"
      ]
     },
     "execution_count": 39,
     "metadata": {},
     "output_type": "execute_result"
    }
   ],
   "source": [
    "vin.brand\n",
    "vin.manufacturer"
   ]
  },
  {
   "cell_type": "code",
   "execution_count": 34,
   "id": "ead72149",
   "metadata": {},
   "outputs": [
    {
     "data": {
      "text/plain": [
       "<vininfo.details.renault.RenaultDetails at 0x2425336b7d0>"
      ]
     },
     "execution_count": 34,
     "metadata": {},
     "output_type": "execute_result"
    }
   ],
   "source": [
    "vin.details"
   ]
  },
  {
   "cell_type": "code",
   "execution_count": 37,
   "id": "ad615ba0",
   "metadata": {},
   "outputs": [
    {
     "data": {
      "text/plain": [
       "array(['Ford', 'Nissan', 'HUMMER', 'Lincoln', 'pontiac', 'Hyundai', nan,\n",
       "       'Buick', 'Chevrolet', 'Honda', 'Acura', 'Cadillac', 'GMC', 'Saab',\n",
       "       'Dodge', 'Mercedes-Benz', 'Toyota', 'Volkswagen', 'BMW',\n",
       "       'Infiniti', 'Chrysler', 'Kia', 'Jaguar', 'Subaru', 'Jeep', 'Lexus',\n",
       "       'mercedes', 'Scion', 'FIAT', 'Suzuki', 'Mazda', 'Volvo', 'Audi',\n",
       "       'MINI', 'Isuzu', 'Mitsubishi', 'smart', 'Pontiac', 'Porsche',\n",
       "       'subaru', 'ford', 'Land Rover', 'chrysler', 'Saturn', 'mazda',\n",
       "       'dodge', 'Ram', 'Oldsmobile', 'hyundai', 'Mercury', 'Bentley',\n",
       "       'toyota', 'lincoln', 'Fisker', 'nissan', 'chevrolet', 'honda',\n",
       "       'porsche', 'mitsubishi', 'lexus', 'bmw', 'Maserati', 'acura',\n",
       "       'jeep', 'mercury', 'Tesla', 'landrover', 'vw', 'cadillac', 'buick',\n",
       "       'gmc truck', 'land rover', 'volkswagen', 'Rolls-Royce', 'audi',\n",
       "       'Ferrari', 'suzuki', 'Plymouth', 'oldsmobile', 'Lamborghini',\n",
       "       'gmc', 'Geo', 'ford truck', 'Aston Martin', 'plymouth', 'Daewoo',\n",
       "       'maserati', 'kia', 'mercedes-b', 'dodge tk', 'mazda tk', 'dot',\n",
       "       'airstream'], dtype=object)"
      ]
     },
     "execution_count": 37,
     "metadata": {},
     "output_type": "execute_result"
    }
   ],
   "source": [
    "data_train['make'].unique()"
   ]
  },
  {
   "cell_type": "code",
   "execution_count": 43,
   "id": "e1fc7c71",
   "metadata": {},
   "outputs": [
    {
     "ename": "AttributeError",
     "evalue": "'Series' object has no attribute 'strip'",
     "output_type": "error",
     "traceback": [
      "\u001b[1;31m---------------------------------------------------------------------------\u001b[0m",
      "\u001b[1;31mAttributeError\u001b[0m                            Traceback (most recent call last)",
      "Cell \u001b[1;32mIn[43], line 1\u001b[0m\n\u001b[1;32m----> 1\u001b[0m data_train[\u001b[38;5;124m'\u001b[39m\u001b[38;5;124mmake\u001b[39m\u001b[38;5;124m'\u001b[39m]\u001b[38;5;241m.\u001b[39mfillna(Vin(data_train[\u001b[38;5;124m'\u001b[39m\u001b[38;5;124mvin\u001b[39m\u001b[38;5;124m'\u001b[39m])\u001b[38;5;241m.\u001b[39mmanufacturer)\n",
      "File \u001b[1;32mC:\\ProgramData\\anaconda3\\Lib\\site-packages\\vininfo\\toolbox.py:25\u001b[0m, in \u001b[0;36mVin.__init__\u001b[1;34m(self, num)\u001b[0m\n\u001b[0;32m     24\u001b[0m \u001b[38;5;28;01mdef\u001b[39;00m \u001b[38;5;21m__init__\u001b[39m(\u001b[38;5;28mself\u001b[39m, num: \u001b[38;5;28mstr\u001b[39m):\n\u001b[1;32m---> 25\u001b[0m     \u001b[38;5;28mself\u001b[39m\u001b[38;5;241m.\u001b[39mnum \u001b[38;5;241m=\u001b[39m \u001b[38;5;28mself\u001b[39m\u001b[38;5;241m.\u001b[39mvalidate(num)\n\u001b[0;32m     27\u001b[0m     details_extractor \u001b[38;5;241m=\u001b[39m \u001b[38;5;28mself\u001b[39m\u001b[38;5;241m.\u001b[39mbrand\u001b[38;5;241m.\u001b[39mextractor\n\u001b[0;32m     29\u001b[0m     \u001b[38;5;28;01mif\u001b[39;00m details_extractor:\n",
      "File \u001b[1;32mC:\\ProgramData\\anaconda3\\Lib\\site-packages\\vininfo\\toolbox.py:44\u001b[0m, in \u001b[0;36mVin.validate\u001b[1;34m(self, num)\u001b[0m\n\u001b[0;32m     37\u001b[0m \u001b[38;5;129m@classmethod\u001b[39m\n\u001b[0;32m     38\u001b[0m \u001b[38;5;28;01mdef\u001b[39;00m \u001b[38;5;21mvalidate\u001b[39m(\u001b[38;5;28mself\u001b[39m, num: \u001b[38;5;28mstr\u001b[39m) \u001b[38;5;241m-\u001b[39m\u001b[38;5;241m>\u001b[39m \u001b[38;5;28mstr\u001b[39m:\n\u001b[0;32m     39\u001b[0m \u001b[38;5;250m    \u001b[39m\u001b[38;5;124;03m\"\"\"Performs basic VIN validation and sanation.\u001b[39;00m\n\u001b[0;32m     40\u001b[0m \n\u001b[0;32m     41\u001b[0m \u001b[38;5;124;03m    :param num:\u001b[39;00m\n\u001b[0;32m     42\u001b[0m \n\u001b[0;32m     43\u001b[0m \u001b[38;5;124;03m    \"\"\"\u001b[39;00m\n\u001b[1;32m---> 44\u001b[0m     num \u001b[38;5;241m=\u001b[39m num\u001b[38;5;241m.\u001b[39mstrip()\u001b[38;5;241m.\u001b[39mupper()\n\u001b[0;32m     46\u001b[0m     num_len \u001b[38;5;241m=\u001b[39m \u001b[38;5;28mlen\u001b[39m(num)\n\u001b[0;32m     47\u001b[0m     \u001b[38;5;28;01mif\u001b[39;00m num_len \u001b[38;5;241m!=\u001b[39m \u001b[38;5;241m17\u001b[39m:\n",
      "File \u001b[1;32mC:\\ProgramData\\anaconda3\\Lib\\site-packages\\pandas\\core\\generic.py:5902\u001b[0m, in \u001b[0;36mNDFrame.__getattr__\u001b[1;34m(self, name)\u001b[0m\n\u001b[0;32m   5895\u001b[0m \u001b[38;5;28;01mif\u001b[39;00m (\n\u001b[0;32m   5896\u001b[0m     name \u001b[38;5;129;01mnot\u001b[39;00m \u001b[38;5;129;01min\u001b[39;00m \u001b[38;5;28mself\u001b[39m\u001b[38;5;241m.\u001b[39m_internal_names_set\n\u001b[0;32m   5897\u001b[0m     \u001b[38;5;129;01mand\u001b[39;00m name \u001b[38;5;129;01mnot\u001b[39;00m \u001b[38;5;129;01min\u001b[39;00m \u001b[38;5;28mself\u001b[39m\u001b[38;5;241m.\u001b[39m_metadata\n\u001b[0;32m   5898\u001b[0m     \u001b[38;5;129;01mand\u001b[39;00m name \u001b[38;5;129;01mnot\u001b[39;00m \u001b[38;5;129;01min\u001b[39;00m \u001b[38;5;28mself\u001b[39m\u001b[38;5;241m.\u001b[39m_accessors\n\u001b[0;32m   5899\u001b[0m     \u001b[38;5;129;01mand\u001b[39;00m \u001b[38;5;28mself\u001b[39m\u001b[38;5;241m.\u001b[39m_info_axis\u001b[38;5;241m.\u001b[39m_can_hold_identifiers_and_holds_name(name)\n\u001b[0;32m   5900\u001b[0m ):\n\u001b[0;32m   5901\u001b[0m     \u001b[38;5;28;01mreturn\u001b[39;00m \u001b[38;5;28mself\u001b[39m[name]\n\u001b[1;32m-> 5902\u001b[0m \u001b[38;5;28;01mreturn\u001b[39;00m \u001b[38;5;28mobject\u001b[39m\u001b[38;5;241m.\u001b[39m\u001b[38;5;21m__getattribute__\u001b[39m(\u001b[38;5;28mself\u001b[39m, name)\n",
      "\u001b[1;31mAttributeError\u001b[0m: 'Series' object has no attribute 'strip'"
     ]
    }
   ],
   "source": [
    "data_train['make'].fillna(Vin(data_train['vin']).manufacturer)"
   ]
  },
  {
   "cell_type": "code",
   "execution_count": 45,
   "id": "e93fd464",
   "metadata": {},
   "outputs": [
    {
     "data": {
      "text/plain": [
       "<vininfo.toolbox.Vin at 0x2425b9e7d90>"
      ]
     },
     "execution_count": 45,
     "metadata": {},
     "output_type": "execute_result"
    }
   ],
   "source": [
    "vin = Vin('VF1LM1B0H36666155')\n",
    "vin"
   ]
  },
  {
   "cell_type": "code",
   "execution_count": 58,
   "id": "e30c82b6",
   "metadata": {},
   "outputs": [
    {
     "ename": "AttributeError",
     "evalue": "'Series' object has no attribute 'strip'",
     "output_type": "error",
     "traceback": [
      "\u001b[1;31m---------------------------------------------------------------------------\u001b[0m",
      "\u001b[1;31mAttributeError\u001b[0m                            Traceback (most recent call last)",
      "Cell \u001b[1;32mIn[58], line 1\u001b[0m\n\u001b[1;32m----> 1\u001b[0m data_train[\u001b[38;5;124m'\u001b[39m\u001b[38;5;124mmanufacturer\u001b[39m\u001b[38;5;124m'\u001b[39m] \u001b[38;5;241m=\u001b[39m Vin(data_train[\u001b[38;5;124m'\u001b[39m\u001b[38;5;124mvin\u001b[39m\u001b[38;5;124m'\u001b[39m])\u001b[38;5;241m.\u001b[39mmanufacturer\n",
      "File \u001b[1;32mC:\\ProgramData\\anaconda3\\Lib\\site-packages\\vininfo\\toolbox.py:25\u001b[0m, in \u001b[0;36mVin.__init__\u001b[1;34m(self, num)\u001b[0m\n\u001b[0;32m     24\u001b[0m \u001b[38;5;28;01mdef\u001b[39;00m \u001b[38;5;21m__init__\u001b[39m(\u001b[38;5;28mself\u001b[39m, num: \u001b[38;5;28mstr\u001b[39m):\n\u001b[1;32m---> 25\u001b[0m     \u001b[38;5;28mself\u001b[39m\u001b[38;5;241m.\u001b[39mnum \u001b[38;5;241m=\u001b[39m \u001b[38;5;28mself\u001b[39m\u001b[38;5;241m.\u001b[39mvalidate(num)\n\u001b[0;32m     27\u001b[0m     details_extractor \u001b[38;5;241m=\u001b[39m \u001b[38;5;28mself\u001b[39m\u001b[38;5;241m.\u001b[39mbrand\u001b[38;5;241m.\u001b[39mextractor\n\u001b[0;32m     29\u001b[0m     \u001b[38;5;28;01mif\u001b[39;00m details_extractor:\n",
      "File \u001b[1;32mC:\\ProgramData\\anaconda3\\Lib\\site-packages\\vininfo\\toolbox.py:44\u001b[0m, in \u001b[0;36mVin.validate\u001b[1;34m(self, num)\u001b[0m\n\u001b[0;32m     37\u001b[0m \u001b[38;5;129m@classmethod\u001b[39m\n\u001b[0;32m     38\u001b[0m \u001b[38;5;28;01mdef\u001b[39;00m \u001b[38;5;21mvalidate\u001b[39m(\u001b[38;5;28mself\u001b[39m, num: \u001b[38;5;28mstr\u001b[39m) \u001b[38;5;241m-\u001b[39m\u001b[38;5;241m>\u001b[39m \u001b[38;5;28mstr\u001b[39m:\n\u001b[0;32m     39\u001b[0m \u001b[38;5;250m    \u001b[39m\u001b[38;5;124;03m\"\"\"Performs basic VIN validation and sanation.\u001b[39;00m\n\u001b[0;32m     40\u001b[0m \n\u001b[0;32m     41\u001b[0m \u001b[38;5;124;03m    :param num:\u001b[39;00m\n\u001b[0;32m     42\u001b[0m \n\u001b[0;32m     43\u001b[0m \u001b[38;5;124;03m    \"\"\"\u001b[39;00m\n\u001b[1;32m---> 44\u001b[0m     num \u001b[38;5;241m=\u001b[39m num\u001b[38;5;241m.\u001b[39mstrip()\u001b[38;5;241m.\u001b[39mupper()\n\u001b[0;32m     46\u001b[0m     num_len \u001b[38;5;241m=\u001b[39m \u001b[38;5;28mlen\u001b[39m(num)\n\u001b[0;32m     47\u001b[0m     \u001b[38;5;28;01mif\u001b[39;00m num_len \u001b[38;5;241m!=\u001b[39m \u001b[38;5;241m17\u001b[39m:\n",
      "File \u001b[1;32mC:\\ProgramData\\anaconda3\\Lib\\site-packages\\pandas\\core\\generic.py:5902\u001b[0m, in \u001b[0;36mNDFrame.__getattr__\u001b[1;34m(self, name)\u001b[0m\n\u001b[0;32m   5895\u001b[0m \u001b[38;5;28;01mif\u001b[39;00m (\n\u001b[0;32m   5896\u001b[0m     name \u001b[38;5;129;01mnot\u001b[39;00m \u001b[38;5;129;01min\u001b[39;00m \u001b[38;5;28mself\u001b[39m\u001b[38;5;241m.\u001b[39m_internal_names_set\n\u001b[0;32m   5897\u001b[0m     \u001b[38;5;129;01mand\u001b[39;00m name \u001b[38;5;129;01mnot\u001b[39;00m \u001b[38;5;129;01min\u001b[39;00m \u001b[38;5;28mself\u001b[39m\u001b[38;5;241m.\u001b[39m_metadata\n\u001b[0;32m   5898\u001b[0m     \u001b[38;5;129;01mand\u001b[39;00m name \u001b[38;5;129;01mnot\u001b[39;00m \u001b[38;5;129;01min\u001b[39;00m \u001b[38;5;28mself\u001b[39m\u001b[38;5;241m.\u001b[39m_accessors\n\u001b[0;32m   5899\u001b[0m     \u001b[38;5;129;01mand\u001b[39;00m \u001b[38;5;28mself\u001b[39m\u001b[38;5;241m.\u001b[39m_info_axis\u001b[38;5;241m.\u001b[39m_can_hold_identifiers_and_holds_name(name)\n\u001b[0;32m   5900\u001b[0m ):\n\u001b[0;32m   5901\u001b[0m     \u001b[38;5;28;01mreturn\u001b[39;00m \u001b[38;5;28mself\u001b[39m[name]\n\u001b[1;32m-> 5902\u001b[0m \u001b[38;5;28;01mreturn\u001b[39;00m \u001b[38;5;28mobject\u001b[39m\u001b[38;5;241m.\u001b[39m\u001b[38;5;21m__getattribute__\u001b[39m(\u001b[38;5;28mself\u001b[39m, name)\n",
      "\u001b[1;31mAttributeError\u001b[0m: 'Series' object has no attribute 'strip'"
     ]
    }
   ],
   "source": [
    "data_train['manufacturer'] = Vin(data_train['vin']).manufacturer"
   ]
  },
  {
   "cell_type": "code",
   "execution_count": 46,
   "id": "3e5c058c",
   "metadata": {},
   "outputs": [
    {
     "ename": "AttributeError",
     "evalue": "'Series' object has no attribute 'strip'",
     "output_type": "error",
     "traceback": [
      "\u001b[1;31m---------------------------------------------------------------------------\u001b[0m",
      "\u001b[1;31mAttributeError\u001b[0m                            Traceback (most recent call last)",
      "Cell \u001b[1;32mIn[46], line 1\u001b[0m\n\u001b[1;32m----> 1\u001b[0m data_train[\u001b[38;5;124m'\u001b[39m\u001b[38;5;124mvin_2\u001b[39m\u001b[38;5;124m'\u001b[39m] \u001b[38;5;241m=\u001b[39m Vin(data_train[\u001b[38;5;124m'\u001b[39m\u001b[38;5;124mvin\u001b[39m\u001b[38;5;124m'\u001b[39m])\n",
      "File \u001b[1;32mC:\\ProgramData\\anaconda3\\Lib\\site-packages\\vininfo\\toolbox.py:25\u001b[0m, in \u001b[0;36mVin.__init__\u001b[1;34m(self, num)\u001b[0m\n\u001b[0;32m     24\u001b[0m \u001b[38;5;28;01mdef\u001b[39;00m \u001b[38;5;21m__init__\u001b[39m(\u001b[38;5;28mself\u001b[39m, num: \u001b[38;5;28mstr\u001b[39m):\n\u001b[1;32m---> 25\u001b[0m     \u001b[38;5;28mself\u001b[39m\u001b[38;5;241m.\u001b[39mnum \u001b[38;5;241m=\u001b[39m \u001b[38;5;28mself\u001b[39m\u001b[38;5;241m.\u001b[39mvalidate(num)\n\u001b[0;32m     27\u001b[0m     details_extractor \u001b[38;5;241m=\u001b[39m \u001b[38;5;28mself\u001b[39m\u001b[38;5;241m.\u001b[39mbrand\u001b[38;5;241m.\u001b[39mextractor\n\u001b[0;32m     29\u001b[0m     \u001b[38;5;28;01mif\u001b[39;00m details_extractor:\n",
      "File \u001b[1;32mC:\\ProgramData\\anaconda3\\Lib\\site-packages\\vininfo\\toolbox.py:44\u001b[0m, in \u001b[0;36mVin.validate\u001b[1;34m(self, num)\u001b[0m\n\u001b[0;32m     37\u001b[0m \u001b[38;5;129m@classmethod\u001b[39m\n\u001b[0;32m     38\u001b[0m \u001b[38;5;28;01mdef\u001b[39;00m \u001b[38;5;21mvalidate\u001b[39m(\u001b[38;5;28mself\u001b[39m, num: \u001b[38;5;28mstr\u001b[39m) \u001b[38;5;241m-\u001b[39m\u001b[38;5;241m>\u001b[39m \u001b[38;5;28mstr\u001b[39m:\n\u001b[0;32m     39\u001b[0m \u001b[38;5;250m    \u001b[39m\u001b[38;5;124;03m\"\"\"Performs basic VIN validation and sanation.\u001b[39;00m\n\u001b[0;32m     40\u001b[0m \n\u001b[0;32m     41\u001b[0m \u001b[38;5;124;03m    :param num:\u001b[39;00m\n\u001b[0;32m     42\u001b[0m \n\u001b[0;32m     43\u001b[0m \u001b[38;5;124;03m    \"\"\"\u001b[39;00m\n\u001b[1;32m---> 44\u001b[0m     num \u001b[38;5;241m=\u001b[39m num\u001b[38;5;241m.\u001b[39mstrip()\u001b[38;5;241m.\u001b[39mupper()\n\u001b[0;32m     46\u001b[0m     num_len \u001b[38;5;241m=\u001b[39m \u001b[38;5;28mlen\u001b[39m(num)\n\u001b[0;32m     47\u001b[0m     \u001b[38;5;28;01mif\u001b[39;00m num_len \u001b[38;5;241m!=\u001b[39m \u001b[38;5;241m17\u001b[39m:\n",
      "File \u001b[1;32mC:\\ProgramData\\anaconda3\\Lib\\site-packages\\pandas\\core\\generic.py:5902\u001b[0m, in \u001b[0;36mNDFrame.__getattr__\u001b[1;34m(self, name)\u001b[0m\n\u001b[0;32m   5895\u001b[0m \u001b[38;5;28;01mif\u001b[39;00m (\n\u001b[0;32m   5896\u001b[0m     name \u001b[38;5;129;01mnot\u001b[39;00m \u001b[38;5;129;01min\u001b[39;00m \u001b[38;5;28mself\u001b[39m\u001b[38;5;241m.\u001b[39m_internal_names_set\n\u001b[0;32m   5897\u001b[0m     \u001b[38;5;129;01mand\u001b[39;00m name \u001b[38;5;129;01mnot\u001b[39;00m \u001b[38;5;129;01min\u001b[39;00m \u001b[38;5;28mself\u001b[39m\u001b[38;5;241m.\u001b[39m_metadata\n\u001b[0;32m   5898\u001b[0m     \u001b[38;5;129;01mand\u001b[39;00m name \u001b[38;5;129;01mnot\u001b[39;00m \u001b[38;5;129;01min\u001b[39;00m \u001b[38;5;28mself\u001b[39m\u001b[38;5;241m.\u001b[39m_accessors\n\u001b[0;32m   5899\u001b[0m     \u001b[38;5;129;01mand\u001b[39;00m \u001b[38;5;28mself\u001b[39m\u001b[38;5;241m.\u001b[39m_info_axis\u001b[38;5;241m.\u001b[39m_can_hold_identifiers_and_holds_name(name)\n\u001b[0;32m   5900\u001b[0m ):\n\u001b[0;32m   5901\u001b[0m     \u001b[38;5;28;01mreturn\u001b[39;00m \u001b[38;5;28mself\u001b[39m[name]\n\u001b[1;32m-> 5902\u001b[0m \u001b[38;5;28;01mreturn\u001b[39;00m \u001b[38;5;28mobject\u001b[39m\u001b[38;5;241m.\u001b[39m\u001b[38;5;21m__getattribute__\u001b[39m(\u001b[38;5;28mself\u001b[39m, name)\n",
      "\u001b[1;31mAttributeError\u001b[0m: 'Series' object has no attribute 'strip'"
     ]
    }
   ],
   "source": [
    "data_train['vin_2'] = Vin(data_train['vin'])"
   ]
  },
  {
   "cell_type": "code",
   "execution_count": 48,
   "id": "51666864",
   "metadata": {},
   "outputs": [],
   "source": [
    "def vinvin(x):\n",
    "    result = Vin(data_train[x])\n",
    "    return result"
   ]
  },
  {
   "cell_type": "code",
   "execution_count": 52,
   "id": "4442beab",
   "metadata": {},
   "outputs": [
    {
     "data": {
      "text/plain": [
       "'3fa6p0h75er208976'"
      ]
     },
     "execution_count": 52,
     "metadata": {},
     "output_type": "execute_result"
    }
   ],
   "source": [
    "v = data_train.loc[1, 'vin']\n",
    "v"
   ]
  },
  {
   "cell_type": "code",
   "execution_count": 53,
   "id": "ac19dfab",
   "metadata": {},
   "outputs": [],
   "source": [
    "vin = Vin(v)"
   ]
  },
  {
   "cell_type": "code",
   "execution_count": 54,
   "id": "80c69433",
   "metadata": {},
   "outputs": [
    {
     "data": {
      "text/plain": [
       "'Ford'"
      ]
     },
     "execution_count": 54,
     "metadata": {},
     "output_type": "execute_result"
    }
   ],
   "source": [
    "vin.manufacturer"
   ]
  },
  {
   "cell_type": "code",
   "execution_count": 55,
   "id": "2e307c1f",
   "metadata": {},
   "outputs": [
    {
     "data": {
      "text/plain": [
       "'Ford'"
      ]
     },
     "execution_count": 55,
     "metadata": {},
     "output_type": "execute_result"
    }
   ],
   "source": [
    "data_train.loc[1, 'make']"
   ]
  },
  {
   "cell_type": "code",
   "execution_count": 56,
   "id": "534c2f9e",
   "metadata": {},
   "outputs": [
    {
     "data": {
      "text/plain": [
       "'Ford'"
      ]
     },
     "execution_count": 56,
     "metadata": {},
     "output_type": "execute_result"
    }
   ],
   "source": [
    "Vin(data_train.loc[1, 'vin']).manufacturer"
   ]
  },
  {
   "cell_type": "code",
   "execution_count": null,
   "id": "c5d6a777",
   "metadata": {},
   "outputs": [],
   "source": []
  }
 ],
 "metadata": {
  "kernelspec": {
   "display_name": "Python 3 (ipykernel)",
   "language": "python",
   "name": "python3"
  },
  "language_info": {
   "codemirror_mode": {
    "name": "ipython",
    "version": 3
   },
   "file_extension": ".py",
   "mimetype": "text/x-python",
   "name": "python",
   "nbconvert_exporter": "python",
   "pygments_lexer": "ipython3",
   "version": "3.11.3"
  },
  "toc": {
   "base_numbering": 1,
   "nav_menu": {},
   "number_sections": true,
   "sideBar": true,
   "skip_h1_title": false,
   "title_cell": "Table of Contents",
   "title_sidebar": "Contents",
   "toc_cell": false,
   "toc_position": {},
   "toc_section_display": true,
   "toc_window_display": false
  }
 },
 "nbformat": 4,
 "nbformat_minor": 5
}
